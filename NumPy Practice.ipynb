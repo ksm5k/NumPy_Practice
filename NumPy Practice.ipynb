{
 "cells": [
  {
   "cell_type": "code",
   "execution_count": 13,
   "id": "89965fef",
   "metadata": {},
   "outputs": [],
   "source": [
    "import numpy as np"
   ]
  },
  {
   "cell_type": "code",
   "execution_count": 33,
   "id": "b93a0b8c",
   "metadata": {},
   "outputs": [
    {
     "name": "stdout",
     "output_type": "stream",
     "text": [
      "1.21.5\n"
     ]
    }
   ],
   "source": [
    "#Print the NumPy version being used\n",
    "print(np.__version__)"
   ]
  },
  {
   "cell_type": "code",
   "execution_count": 31,
   "id": "ab3ad25b",
   "metadata": {},
   "outputs": [
    {
     "data": {
      "text/plain": [
       "array([1, 2, 3])"
      ]
     },
     "execution_count": 31,
     "metadata": {},
     "output_type": "execute_result"
    }
   ],
   "source": [
    "#Create array \n",
    "my_array = [1, 2, 3]\n",
    "my_np_array = np.array(my_array)\n",
    "my_np_array"
   ]
  },
  {
   "cell_type": "code",
   "execution_count": 15,
   "id": "86419e5e",
   "metadata": {},
   "outputs": [
    {
     "data": {
      "text/plain": [
       "dtype('int32')"
      ]
     },
     "execution_count": 15,
     "metadata": {},
     "output_type": "execute_result"
    }
   ],
   "source": [
    "#Check data type of array \n",
    "my_np_array.dtype"
   ]
  },
  {
   "cell_type": "code",
   "execution_count": 32,
   "id": "a3331581",
   "metadata": {},
   "outputs": [
    {
     "data": {
      "text/plain": [
       "array([[1, 2, 3],\n",
       "       [4, 5, 6]])"
      ]
     },
     "execution_count": 32,
     "metadata": {},
     "output_type": "execute_result"
    }
   ],
   "source": [
    "#Create a 2D-array \n",
    "my_2d_array = np.array([[1, 2, 3], [4, 5, 6]])\n",
    "my_2d_array"
   ]
  },
  {
   "cell_type": "code",
   "execution_count": 19,
   "id": "e82bf19a",
   "metadata": {},
   "outputs": [
    {
     "name": "stdout",
     "output_type": "stream",
     "text": [
      "The dimension of my_np_array is: 1\n",
      "The dimension of my_2d_array is: 2\n"
     ]
    }
   ],
   "source": [
    "#Verify dimension of arrays\n",
    "print(\"The dimension of my_np_array is: \" + str(my_np_array.ndim))\n",
    "print(\"The dimension of my_2d_array is: \" + str(my_2d_array.ndim))"
   ]
  },
  {
   "cell_type": "code",
   "execution_count": 21,
   "id": "758b07c6",
   "metadata": {},
   "outputs": [
    {
     "name": "stdout",
     "output_type": "stream",
     "text": [
      "The first element of my_np_array is: 1\n"
     ]
    }
   ],
   "source": [
    "#Get the first element of my_np_array\n",
    "print(\"The first element of my_np_array is: \" + str(my_np_array[0]))"
   ]
  },
  {
   "cell_type": "code",
   "execution_count": 23,
   "id": "37ff8d5b",
   "metadata": {},
   "outputs": [
    {
     "name": "stdout",
     "output_type": "stream",
     "text": [
      "The first array in my_2d_array is: [1 2 3]\n"
     ]
    }
   ],
   "source": [
    "#Get the first array of my_2d_array \n",
    "print(\"The first array in my_2d_array is: \" + str(my_2d_array[0]))"
   ]
  },
  {
   "cell_type": "code",
   "execution_count": 24,
   "id": "3a4f4608",
   "metadata": {},
   "outputs": [
    {
     "name": "stdout",
     "output_type": "stream",
     "text": [
      "The first element of the first array in my_2d_array is: 1\n",
      "The first element of the second array in my_2d_array is: 4\n"
     ]
    }
   ],
   "source": [
    "#Get the first element of the first array of my_2d_array and of the second array of my_2d_array\n",
    "print(\"The first element of the first array in my_2d_array is: \" + str(my_2d_array[0][0]))\n",
    "print(\"The first element of the second array in my_2d_array is: \" + str(my_2d_array[1][0]))"
   ]
  },
  {
   "cell_type": "code",
   "execution_count": 25,
   "id": "0648eb01",
   "metadata": {},
   "outputs": [
    {
     "name": "stdout",
     "output_type": "stream",
     "text": [
      "The first element of the first array in my_2d_array is: 1\n",
      "The first element of the second array in my_2d_array is: 4\n"
     ]
    }
   ],
   "source": [
    "#Try the previous two tasks with an alternative indexing technique \n",
    "print(\"The first element of the first array in my_2d_array is: \" + str(my_2d_array[0, 0]))\n",
    "print(\"The first element of the second array in my_2d_array is: \" + str(my_2d_array[1, 0]))"
   ]
  },
  {
   "cell_type": "code",
   "execution_count": 26,
   "id": "6d5bb2f8",
   "metadata": {},
   "outputs": [],
   "source": [
    "#Create array of numbers 1-5 \n",
    "one_thru_five = np.array([1, 2, 3, 4, 5])"
   ]
  },
  {
   "cell_type": "code",
   "execution_count": 27,
   "id": "049e7446",
   "metadata": {},
   "outputs": [
    {
     "name": "stdout",
     "output_type": "stream",
     "text": [
      "[1 2 3]\n"
     ]
    }
   ],
   "source": [
    "#Print an arrray of elements 1 through 3 using slicing \n",
    "print(str(one_thru_five[0:3]))"
   ]
  },
  {
   "cell_type": "code",
   "execution_count": 30,
   "id": "99d5cc73",
   "metadata": {},
   "outputs": [
    {
     "name": "stdout",
     "output_type": "stream",
     "text": [
      "[3 4 5]\n"
     ]
    }
   ],
   "source": [
    "#Print an array of elements 3 through 5 using slicing\n",
    "print(str(one_thru_five[2:5]))"
   ]
  },
  {
   "cell_type": "code",
   "execution_count": 36,
   "id": "47ac517d",
   "metadata": {},
   "outputs": [
    {
     "name": "stdout",
     "output_type": "stream",
     "text": [
      "[[4 4 4]\n",
      " [6 6 6]]\n"
     ]
    }
   ],
   "source": [
    "#Print the sum of two np arrays \n",
    "a1 = np.array([[1, 1, 1], [2, 2, 2]])\n",
    "a2 = np.array([[3, 3, 3], [4, 4, 4]])\n",
    "\n",
    "sum_array = a1 + a2 \n",
    "print(sum_array)"
   ]
  },
  {
   "cell_type": "code",
   "execution_count": 37,
   "id": "3844306d",
   "metadata": {},
   "outputs": [
    {
     "name": "stdout",
     "output_type": "stream",
     "text": [
      "[[ 5  5  5]\n",
      " [10 10 10]]\n"
     ]
    }
   ],
   "source": [
    "#Print a1 multiplied by a scalar \n",
    "scalar = 5\n",
    "mult_array = a1*scalar\n",
    "print(mult_array)"
   ]
  },
  {
   "cell_type": "code",
   "execution_count": 38,
   "id": "14022320",
   "metadata": {},
   "outputs": [
    {
     "data": {
      "text/plain": [
       "array([[1., 0., 0., 0., 0.],\n",
       "       [0., 1., 0., 0., 0.],\n",
       "       [0., 0., 1., 0., 0.],\n",
       "       [0., 0., 0., 1., 0.],\n",
       "       [0., 0., 0., 0., 1.]])"
      ]
     },
     "execution_count": 38,
     "metadata": {},
     "output_type": "execute_result"
    }
   ],
   "source": [
    "#Create a 5x5 identity matrix \n",
    "id_matrix_5 = np.eye(5)\n",
    "id_matrix_5"
   ]
  },
  {
   "cell_type": "code",
   "execution_count": null,
   "id": "e2c1be63",
   "metadata": {},
   "outputs": [],
   "source": []
  }
 ],
 "metadata": {
  "kernelspec": {
   "display_name": "Python 3",
   "language": "python",
   "name": "python3"
  },
  "language_info": {
   "codemirror_mode": {
    "name": "ipython",
    "version": 3
   },
   "file_extension": ".py",
   "mimetype": "text/x-python",
   "name": "python",
   "nbconvert_exporter": "python",
   "pygments_lexer": "ipython3",
   "version": "3.9.13"
  }
 },
 "nbformat": 4,
 "nbformat_minor": 5
}
